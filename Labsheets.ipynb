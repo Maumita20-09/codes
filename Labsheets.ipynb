{
 "cells": [
  {
   "cell_type": "code",
   "execution_count": 1,
   "id": "96cc1b93-3270-45f6-93f1-d86269436437",
   "metadata": {},
   "outputs": [
    {
     "name": "stdout",
     "output_type": "stream",
     "text": [
      "Your age is 25\n"
     ]
    }
   ],
   "source": [
    "age = 25\n",
    "print(\"Your age is\",age)"
   ]
  },
  {
   "cell_type": "code",
   "execution_count": 2,
   "id": "572064ad-6fed-4452-abb2-142246dc0e8b",
   "metadata": {},
   "outputs": [
    {
     "name": "stdout",
     "output_type": "stream",
     "text": [
      "Your age is 25\n"
     ]
    }
   ],
   "source": [
    "age =25\n",
    "print(\"Your age is \"+str(age))"
   ]
  },
  {
   "cell_type": "code",
   "execution_count": 3,
   "id": "044e130b-9c6b-4191-8c1c-9301851657b1",
   "metadata": {},
   "outputs": [
    {
     "name": "stdout",
     "output_type": "stream",
     "text": [
      "ten 5\n"
     ]
    }
   ],
   "source": [
    "x=\"ten\"\n",
    "print(x ,\"5\")"
   ]
  },
  {
   "cell_type": "code",
   "execution_count": 4,
   "id": "7b0227ca-2ac5-42c1-ad11-750bf3a309f0",
   "metadata": {},
   "outputs": [
    {
     "name": "stdout",
     "output_type": "stream",
     "text": [
      "Equal\n"
     ]
    }
   ],
   "source": [
    "number=10\n",
    "if number==10:\n",
    " print(\"Equal\")"
   ]
  },
  {
   "cell_type": "code",
   "execution_count": 5,
   "id": "8d6a8eea-8301-4f7d-b21d-6afa832d045e",
   "metadata": {},
   "outputs": [
    {
     "name": "stdout",
     "output_type": "stream",
     "text": [
      "100\n"
     ]
    }
   ],
   "source": [
    "value=100\n",
    "print(value)"
   ]
  },
  {
   "cell_type": "code",
   "execution_count": 6,
   "id": "0700f542-99e5-4b2c-a864-e38b28c47e92",
   "metadata": {},
   "outputs": [
    {
     "name": "stdout",
     "output_type": "stream",
     "text": [
      "123\n"
     ]
    }
   ],
   "source": [
    "num=str(123)\n",
    "print(num.upper())"
   ]
  },
  {
   "cell_type": "code",
   "execution_count": 1,
   "id": "bea482db-8a72-48d0-ac75-48e81a709a06",
   "metadata": {},
   "outputs": [
    {
     "name": "stdout",
     "output_type": "stream",
     "text": [
      "3\n"
     ]
    }
   ],
   "source": [
    "num1=int(input(\"Enter number1:\"))\n",
    "num2=int(input(\"Enter number2:\"))\n",
    "print(num1+num2)"
   ]
  },
  {
   "cell_type": "code",
   "execution_count": null,
   "id": "6ea4e833-4b1e-491b-b254-ba368bdebc58",
   "metadata": {},
   "outputs": [
    {
     "name": "stdout",
     "output_type": "stream",
     "text": [
      "x is a positive number\n"
     ]
    }
   ],
   "source": [
    "x=5\n",
    "if x>0:\n",
    "    print(\"x is a positive number\")"
   ]
  },
  {
   "cell_type": "code",
   "execution_count": null,
   "id": "4246f82a-247b-472b-ba3a-a659ec10893e",
   "metadata": {},
   "outputs": [
    {
     "name": "stdout",
     "output_type": "stream",
     "text": [
      "five is greater than two\n"
     ]
    }
   ],
   "source": [
    "if 5>2:\n",
    "    print(\"five is greater than two\")"
   ]
  },
  {
   "cell_type": "code",
   "execution_count": null,
   "id": "870217a9-3e85-4451-82ae-3b66732e3bc8",
   "metadata": {},
   "outputs": [
    {
     "name": "stdout",
     "output_type": "stream",
     "text": [
      "a is 5\n"
     ]
    }
   ],
   "source": [
    "a=5\n",
    "if a==5:\n",
    " print(\"a is 5\")"
   ]
  },
  {
   "cell_type": "code",
   "execution_count": null,
   "id": "aa1e5c50-076e-42d5-b26a-aa5429e69564",
   "metadata": {},
   "outputs": [
    {
     "name": "stdout",
     "output_type": "stream",
     "text": [
      "Equal\n"
     ]
    }
   ],
   "source": [
    "number =10\n",
    "if number==10:\n",
    "    print(\"Equal\")"
   ]
  },
  {
   "cell_type": "code",
   "execution_count": null,
   "id": "1624526f-71ab-44f6-ad98-ca6ad82e76e3",
   "metadata": {},
   "outputs": [
    {
     "name": "stdout",
     "output_type": "stream",
     "text": [
      "zero\n"
     ]
    }
   ],
   "source": [
    "num =0\n",
    "if num>0:\n",
    "    print(\"positive\")\n",
    "elif num==0:\n",
    "    print(\"zero\")\n",
    "else:\n",
    "    print(\"negative\")"
   ]
  },
  {
   "cell_type": "code",
   "execution_count": null,
   "id": "515b71c6-1875-421e-a953-726d429e6d4f",
   "metadata": {},
   "outputs": [
    {
     "name": "stdout",
     "output_type": "stream",
     "text": [
      "apple\n",
      "banana\n",
      "cherry\n"
     ]
    }
   ],
   "source": [
    "fruits =[\"apple\",\"banana\",\"cherry\"]\n",
    "for fruit in fruits:\n",
    "    print(fruit)"
   ]
  },
  {
   "cell_type": "code",
   "execution_count": null,
   "id": "ba337fab-eceb-4753-b109-22c595cddafd",
   "metadata": {},
   "outputs": [
    {
     "name": "stdout",
     "output_type": "stream",
     "text": [
      "1\n",
      "2\n",
      "3\n",
      "4\n",
      "5\n"
     ]
    }
   ],
   "source": [
    "for i in range(1,6):\n",
    "    print(i)"
   ]
  },
  {
   "cell_type": "code",
   "execution_count": null,
   "id": "6f5344d4-3b8b-46a0-9e20-3eea91277531",
   "metadata": {},
   "outputs": [
    {
     "name": "stdout",
     "output_type": "stream",
     "text": [
      "95.0\n"
     ]
    }
   ],
   "source": [
    "print(35*(9/5)+32)"
   ]
  },
  {
   "cell_type": "code",
   "execution_count": 2,
   "id": "b0cea995-0d19-43b3-9c16-159dfe3feff4",
   "metadata": {},
   "outputs": [
    {
     "name": "stdout",
     "output_type": "stream",
     "text": [
      "the number of hours is 1 and minutes is 18\n"
     ]
    }
   ],
   "source": [
    "x=int(input(\"Enter the number of minutes:\"))\n",
    "r1=x//60\n",
    "r2=x%60\n",
    "print(\"the number of hours is {} and minutes is {}\".format(r1,r2))"
   ]
  },
  {
   "cell_type": "code",
   "execution_count": 3,
   "id": "adbc897f",
   "metadata": {},
   "outputs": [
    {
     "name": "stdout",
     "output_type": "stream",
     "text": [
      "Not permitted on tuesday,thursday and saturday\n"
     ]
    }
   ],
   "source": [
    "n=int(input(\"Enter your vehicle number:\"))\n",
    "if n%2==0:\n",
    "    print(\"Not permitted on tuesday,thursday and saturday\")\n",
    "else:\n",
    "    print(\"Not permitted on monday,wednesday and friday\")"
   ]
  },
  {
   "cell_type": "code",
   "execution_count": 4,
   "id": "948f03d1",
   "metadata": {},
   "outputs": [
    {
     "name": "stdout",
     "output_type": "stream",
     "text": [
      "You are too young to create an account\n"
     ]
    }
   ],
   "source": [
    "x=\"123df\"\n",
    "a=int(input(\"Enter your age:\"))\n",
    "if a<18:\n",
    "    print(\"You are too young to create an account\")\n",
    "else:\n",
    "    p=input(\"Enter the password:\")\n",
    "    if p==x:\n",
    "        print(\"Congratulations on creating your account!\")\n",
    "    else:\n",
    "        print(\"Incorrect password\")"
   ]
  },
  {
   "cell_type": "code",
   "execution_count": 5,
   "id": "5cbaa652",
   "metadata": {},
   "outputs": [
    {
     "name": "stdout",
     "output_type": "stream",
     "text": [
      "Eligible\n"
     ]
    }
   ],
   "source": [
    "r=int(input(\"Enter the rank:\"))\n",
    "p=int(input(\"Enter the percentage in 12th:\"))\n",
    "if (r<10000 or p>75):\n",
    "    print(\"Eligible\")\n",
    "else:\n",
    "    print(\"Not eligible\")"
   ]
  },
  {
   "cell_type": "code",
   "execution_count": 6,
   "id": "a2747e27",
   "metadata": {},
   "outputs": [
    {
     "name": "stdout",
     "output_type": "stream",
     "text": [
      "Price = 260\n"
     ]
    }
   ],
   "source": [
    "h=int(input(\"Enter the hours:\"))\n",
    "if 1<h<=2:\n",
    "    print(\"Price = 100\")\n",
    "elif h<=4:\n",
    "    print(\"Price =\",100+((h-2)*50))\n",
    "elif h<=6:\n",
    "    print(\"Price =\",100+100+((h-4)*60))\n",
    "else:\n",
    "    print(\"Price =\",100+200)"
   ]
  },
  {
   "cell_type": "code",
   "execution_count": 7,
   "id": "0659fe53",
   "metadata": {},
   "outputs": [
    {
     "name": "stdout",
     "output_type": "stream",
     "text": [
      "2025\n"
     ]
    }
   ],
   "source": [
    "x=int(input(\"Num A:\"))\n",
    "y=int(input(\"Num B:\"))\n",
    "z=input(\"Enter the operation (+,-,*,/,^):\")\n",
    "if z==\"+\":\n",
    "    print(x+y)\n",
    "elif z==\"-\":\n",
    "    print(x-y)\n",
    "elif z==\"*\":\n",
    "    print(x*y)\n",
    "elif z==\"/\":\n",
    "    if y==0:\n",
    "        print(\"Division by 0 not possible!\")\n",
    "    else:\n",
    "        print(x/y)\n",
    "elif z==\"^\":\n",
    "    print(x**y)\n",
    "else:\n",
    "    print(\"invalid operator!\")"
   ]
  },
  {
   "cell_type": "code",
   "execution_count": 10,
   "id": "e8ad304b",
   "metadata": {},
   "outputs": [
    {
     "name": "stdout",
     "output_type": "stream",
     "text": [
      "Division by 0 not allowed!\n"
     ]
    }
   ],
   "source": [
    "a=int(input(\"Enter number 1:\"))\n",
    "b=int(input(\"Enter number 2:\"))\n",
    "op=input(\"Enter the operation (+,-,*,/):\")\n",
    "match op:\n",
    "    case \"+\":\n",
    "        print(a+b)\n",
    "    case \"-\":\n",
    "        print(a-b)\n",
    "    case \"*\":\n",
    "        print(a*b)\n",
    "    case \"/\":\n",
    "        if b==0:\n",
    "            print(\"Division by 0 not allowed!\")\n",
    "        else:\n",
    "            print(a/b)\n",
    "    case _:\n",
    "        print(\"Invalid operator\")"
   ]
  },
  {
   "cell_type": "code",
   "execution_count": 18,
   "id": "a8c25b5d",
   "metadata": {},
   "outputs": [
    {
     "name": "stdout",
     "output_type": "stream",
     "text": [
      "27000\n"
     ]
    }
   ],
   "source": [
    "u=int(input(\"Enter the number of units:\"))\n",
    "c=input(\"Enter the category of the consumer accordingly: \\n 1 = Domestic users \\n 2 = Commercial user \\n 3 = Industrial user \\n\")\n",
    "match c:\n",
    "    case \"1\":\n",
    "        if u<=100:\n",
    "            print((u*3)+50)\n",
    "        elif 100<u<=200:\n",
    "            print((300+(u-100)*5)+50)\n",
    "        else:\n",
    "            print(300+500+50+(u-200)*8)\n",
    "    case \"2\":\n",
    "        if u<=300:\n",
    "            print((u*6)+200)\n",
    "        elif 300<u<=600:\n",
    "            print(((300*6)+(u-300)*8)+200)\n",
    "        else:\n",
    "            print((300*6)+(300*8)+200+(u-600)*12)\n",
    "    case \"3\":\n",
    "        if u<=500:\n",
    "            print((u*9)+1000)\n",
    "        elif 500<u<=1000:\n",
    "            print(((500*9)+(u-500)*15)+1000)\n",
    "        else:\n",
    "            print((500*9)+(500*15)+1000+(u-1000)*20)\n",
    "    case _:\n",
    "        print(\"Enter the proper condition of users\")"
   ]
  },
  {
   "cell_type": "code",
   "execution_count": 7,
   "id": "f0555324",
   "metadata": {},
   "outputs": [
    {
     "name": "stdout",
     "output_type": "stream",
     "text": [
      "Eligible to go for a electronics company visit\n"
     ]
    }
   ],
   "source": [
    "s=int(input(\"Enter the semester:\"))\n",
    "b=int(input(\"Enter the branch out of the following(1-4): \\n1.CSE \\n2.AIML \\n3.CIVIL \\n4.ECE\\n\"))\n",
    "if s==1 or s==3 or s==5 or s==7:\n",
    "    if b==1:\n",
    "        print(\"Eligible for placement traning\")\n",
    "    elif b==2:\n",
    "        print(\"Eligible for AI training\")\n",
    "    else:\n",
    "        print(\"Eligibility criteria\")\n",
    "elif s==2 or s==4 or s==6:\n",
    "    if b==3:\n",
    "        print(\"Eligible to go for a field visit\")\n",
    "    elif b==4:\n",
    "        print(\"Eligible to go for a electronics company visit\")\n",
    "    else:\n",
    "        print(\"Eligibility criteria\")"
   ]
  },
  {
   "cell_type": "code",
   "execution_count": 26,
   "id": "16e042e9",
   "metadata": {},
   "outputs": [
    {
     "name": "stdout",
     "output_type": "stream",
     "text": [
      "6174\n",
      "The kaprekar constant\n"
     ]
    }
   ],
   "source": [
    "a=input(\"Enter the 4 digit number:\")\n",
    "rev=\" \"\n",
    "for i in a:\n",
    "    rev=i+rev\n",
    "    c=int(a)-int(rev)\n",
    "print(c)\n",
    "if c==6174:\n",
    "    print(\"The kaprekar constant\")\n"
   ]
  },
  {
   "cell_type": "code",
   "execution_count": null,
   "id": "dcf9c12b",
   "metadata": {},
   "outputs": [
    {
     "name": "stdout",
     "output_type": "stream",
     "text": [
      "a value is  8765\n",
      "b value is  5678\n",
      "the kaperkas constant:  3087\n"
     ]
    }
   ],
   "source": [
    "#dosent work\n",
    "a=int(input(\"Enter any 4 digit number in descending order:\"))\n",
    "x=a\n",
    "rev=0\n",
    "while x!=0:\n",
    "    r=x%10\n",
    "    rev=rev*10+r\n",
    "    x=x//10\n",
    "    b=rev\n",
    "    c=a-b\n",
    "print(\"a value is \",a)\n",
    "print(\"b value is \",b)\n",
    "print(\"the kaperkas constant: \",c)\n"
   ]
  },
  {
   "cell_type": "code",
   "execution_count": null,
   "id": "d098f34a",
   "metadata": {},
   "outputs": [
    {
     "name": "stdout",
     "output_type": "stream",
     "text": [
      "0\n",
      "1\n",
      "1\n",
      "2\n",
      "3\n",
      "5\n",
      "8\n",
      "13\n",
      "21\n",
      "34\n",
      "55\n",
      "89\n",
      "144\n",
      "233\n",
      "377\n",
      "610\n",
      "987\n",
      "1597\n",
      "2584\n",
      "4181\n",
      "6765\n",
      "10946\n",
      "17711\n",
      "28657\n",
      "46368\n"
     ]
    }
   ],
   "source": [
    "fib=int(input(\"Enter the limit:\"))\n",
    "a=0\n",
    "b=1\n",
    "print(a)\n",
    "print(b)\n",
    "for  i in range(2,fib):\n",
    "    c=a+b\n",
    "    print(c)\n",
    "    a=b\n",
    "    b=c"
   ]
  },
  {
   "cell_type": "code",
   "execution_count": 37,
   "id": "a250a0e5",
   "metadata": {},
   "outputs": [
    {
     "name": "stdout",
     "output_type": "stream",
     "text": [
      "10007 is a prime number\n"
     ]
    }
   ],
   "source": [
    "import math\n",
    "num=int(input(\"Enter the number:\"))\n",
    "is_prime=True\n",
    "for i in range (2,int(math.sqrt(num))+1):\n",
    "    if num%i==0:\n",
    "        is_prime=False\n",
    "        break\n",
    "if is_prime:\n",
    "        print(num,\"is a prime number\")\n",
    "else:\n",
    "        print(num,\"is not a prime number\")"
   ]
  },
  {
   "cell_type": "code",
   "execution_count": 6,
   "id": "890e84ea",
   "metadata": {},
   "outputs": [
    {
     "name": "stdout",
     "output_type": "stream",
     "text": [
      "The maximum element is 26 at index 1\n"
     ]
    }
   ],
   "source": [
    "import array as a \n",
    "n= int(input(\"Enter the size of the array:\"))\n",
    "arr= a.array(\"i\",[])\n",
    "for i in range(n):\n",
    "    x=int(input(\"Enter element {}\".format(i+1)))\n",
    "    arr.append(x)\n",
    "print(\"The maximum element is {} at index {}\".format(max(arr),arr.index(max(arr))))"
   ]
  },
  {
   "cell_type": "code",
   "execution_count": 4,
   "id": "da32fdcf",
   "metadata": {},
   "outputs": [
    {
     "name": "stdout",
     "output_type": "stream",
     "text": [
      "Student has not submitted the assignment.\n"
     ]
    }
   ],
   "source": [
    "import array as a \n",
    "n=int(input(\"Enter the number of students:\"))\n",
    "arr= a.array(\"i\",[])\n",
    "for i in range(n):\n",
    "    rno=int(input(\"Enter the roll number of the student {}:\".format(i+1)))\n",
    "    arr.append(rno)\n",
    "srno=int(input(\"Enter the roll number to search:\"))\n",
    "found=False\n",
    "for r in arr:\n",
    "    if r==srno:\n",
    "        found=True\n",
    "        break\n",
    "if found:\n",
    "    print(\"Student has submitted the assignment.\")\n",
    "else:\n",
    "    print(\"Student has not submitted the assignment.\")"
   ]
  },
  {
   "cell_type": "code",
   "execution_count": null,
   "id": "3e4c5cb4",
   "metadata": {},
   "outputs": [
    {
     "name": "stdout",
     "output_type": "stream",
     "text": [
      "23\n"
     ]
    }
   ],
   "source": [
    "import array as a \n",
    "n=int(input(\"Enter the number of students:\"))\n",
    "arr= a.array(\"i\",[])\n",
    "print(\"Enter the roll number of the student in a sorted manner\")\n",
    "for i in range(n):\n",
    "    rno=int(input(\"Student {}:\".format(i+1)))\n",
    "    arr.append(rno)\n",
    "srno=int(input(\"Enter the roll number to search:\"))\n",
    "found=False \n"
   ]
  }
 ],
 "metadata": {
  "kernelspec": {
   "display_name": "Python 3",
   "language": "python",
   "name": "python3"
  },
  "language_info": {
   "codemirror_mode": {
    "name": "ipython",
    "version": 3
   },
   "file_extension": ".py",
   "mimetype": "text/x-python",
   "name": "python",
   "nbconvert_exporter": "python",
   "pygments_lexer": "ipython3",
   "version": "3.12.1"
  }
 },
 "nbformat": 4,
 "nbformat_minor": 5
}
