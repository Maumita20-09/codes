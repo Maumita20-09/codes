{
 "cells": [
  {
   "cell_type": "code",
   "execution_count": null,
   "id": "96cc1b93-3270-45f6-93f1-d86269436437",
   "metadata": {},
   "outputs": [
    {
     "name": "stdout",
     "output_type": "stream",
     "text": [
      "Your age is 25\n"
     ]
    }
   ],
   "source": [
    "age = 25\n",
    "print(\"Your age is\",age)"
   ]
  },
  {
   "cell_type": "code",
   "execution_count": null,
   "id": "572064ad-6fed-4452-abb2-142246dc0e8b",
   "metadata": {},
   "outputs": [
    {
     "name": "stdout",
     "output_type": "stream",
     "text": [
      "Your age is 25\n"
     ]
    }
   ],
   "source": [
    "age =25\n",
    "print(\"Your age is \"+str(age))"
   ]
  },
  {
   "cell_type": "code",
   "execution_count": null,
   "id": "044e130b-9c6b-4191-8c1c-9301851657b1",
   "metadata": {},
   "outputs": [
    {
     "name": "stdout",
     "output_type": "stream",
     "text": [
      "ten 5\n"
     ]
    }
   ],
   "source": [
    "x=\"ten\"\n",
    "print(x ,\"5\")"
   ]
  },
  {
   "cell_type": "code",
   "execution_count": null,
   "id": "7b0227ca-2ac5-42c1-ad11-750bf3a309f0",
   "metadata": {},
   "outputs": [
    {
     "name": "stdout",
     "output_type": "stream",
     "text": [
      "Equal\n"
     ]
    }
   ],
   "source": [
    "number=10\n",
    "if number==10:\n",
    " print(\"Equal\")"
   ]
  },
  {
   "cell_type": "code",
   "execution_count": null,
   "id": "8d6a8eea-8301-4f7d-b21d-6afa832d045e",
   "metadata": {},
   "outputs": [
    {
     "name": "stdout",
     "output_type": "stream",
     "text": [
      "100\n"
     ]
    }
   ],
   "source": [
    "value=100\n",
    "print(value)"
   ]
  },
  {
   "cell_type": "code",
   "execution_count": null,
   "id": "0700f542-99e5-4b2c-a864-e38b28c47e92",
   "metadata": {},
   "outputs": [
    {
     "name": "stdout",
     "output_type": "stream",
     "text": [
      "123\n"
     ]
    }
   ],
   "source": [
    "num=str(123)\n",
    "print(num.upper())"
   ]
  },
  {
   "cell_type": "code",
   "execution_count": null,
   "id": "bea482db-8a72-48d0-ac75-48e81a709a06",
   "metadata": {},
   "outputs": [
    {
     "name": "stdout",
     "output_type": "stream",
     "text": [
      "Enter number1: 10\n",
      "Enter number2: 20\n"
     ]
    },
    {
     "name": "stdout",
     "output_type": "stream",
     "text": [
      "30\n"
     ]
    }
   ],
   "source": [
    "num1=int(input(\"Enter number1:\"))\n",
    "num2=int(input(\"Enter number2:\"))\n",
    "print(num1+num2)"
   ]
  },
  {
   "cell_type": "code",
   "execution_count": null,
   "id": "6ea4e833-4b1e-491b-b254-ba368bdebc58",
   "metadata": {},
   "outputs": [
    {
     "name": "stdout",
     "output_type": "stream",
     "text": [
      "x is a positive number\n"
     ]
    }
   ],
   "source": [
    "x=5\n",
    "if x>0:\n",
    "    print(\"x is a positive number\")"
   ]
  },
  {
   "cell_type": "code",
   "execution_count": null,
   "id": "4246f82a-247b-472b-ba3a-a659ec10893e",
   "metadata": {},
   "outputs": [
    {
     "name": "stdout",
     "output_type": "stream",
     "text": [
      "five is greater than two\n"
     ]
    }
   ],
   "source": [
    "if 5>2:\n",
    "    print(\"five is greater than two\")"
   ]
  },
  {
   "cell_type": "code",
   "execution_count": null,
   "id": "870217a9-3e85-4451-82ae-3b66732e3bc8",
   "metadata": {},
   "outputs": [
    {
     "name": "stdout",
     "output_type": "stream",
     "text": [
      "a is 5\n"
     ]
    }
   ],
   "source": [
    "a=5\n",
    "if a==5:\n",
    " print(\"a is 5\")"
   ]
  },
  {
   "cell_type": "code",
   "execution_count": null,
   "id": "aa1e5c50-076e-42d5-b26a-aa5429e69564",
   "metadata": {},
   "outputs": [
    {
     "name": "stdout",
     "output_type": "stream",
     "text": [
      "Equal\n"
     ]
    }
   ],
   "source": [
    "number =10\n",
    "if number==10:\n",
    "    print(\"Equal\")"
   ]
  },
  {
   "cell_type": "code",
   "execution_count": null,
   "id": "1624526f-71ab-44f6-ad98-ca6ad82e76e3",
   "metadata": {},
   "outputs": [
    {
     "name": "stdout",
     "output_type": "stream",
     "text": [
      "zero\n"
     ]
    }
   ],
   "source": [
    "num =0\n",
    "if num>0:\n",
    "    print(\"positive\")\n",
    "elif num==0:\n",
    "    print(\"zero\")\n",
    "else:\n",
    "    print(\"negative\")"
   ]
  },
  {
   "cell_type": "code",
   "execution_count": null,
   "id": "515b71c6-1875-421e-a953-726d429e6d4f",
   "metadata": {},
   "outputs": [
    {
     "name": "stdout",
     "output_type": "stream",
     "text": [
      "apple\n",
      "banana\n",
      "cherry\n"
     ]
    }
   ],
   "source": [
    "fruits =[\"apple\",\"banana\",\"cherry\"]\n",
    "for fruit in fruits:\n",
    "    print(fruit)"
   ]
  },
  {
   "cell_type": "code",
   "execution_count": null,
   "id": "ba337fab-eceb-4753-b109-22c595cddafd",
   "metadata": {},
   "outputs": [
    {
     "name": "stdout",
     "output_type": "stream",
     "text": [
      "1\n",
      "2\n",
      "3\n",
      "4\n",
      "5\n"
     ]
    }
   ],
   "source": [
    "for i in range(1,6):\n",
    "    print(i)"
   ]
  },
  {
   "cell_type": "code",
   "execution_count": null,
   "id": "6f5344d4-3b8b-46a0-9e20-3eea91277531",
   "metadata": {},
   "outputs": [
    {
     "name": "stdout",
     "output_type": "stream",
     "text": [
      "95.0\n"
     ]
    }
   ],
   "source": [
    "print(35*(9/5)+32)"
   ]
  },
  {
   "cell_type": "code",
   "execution_count": null,
   "id": "b0cea995-0d19-43b3-9c16-159dfe3feff4",
   "metadata": {},
   "outputs": [],
   "source": [
    "x=int(input(\"Enter the number of minutes:\"))\n",
    "r1=x//60\n",
    "r2=x%60\n",
    "print(\"the number of hours is {} and minutes is {}\".format(r1,r2))"
   ]
  },
  {
   "cell_type": "code",
   "execution_count": null,
   "id": "adbc897f",
   "metadata": {},
   "outputs": [],
   "source": [
    "n=int(input(\"Enter your vehicle number:\"))\n",
    "if n%2==0:\n",
    "    print(\"Not permitted on tuesday,thursday and saturday\")\n",
    "else:\n",
    "    print(\"Not permitted on monday,wednesday and friday\")"
   ]
  },
  {
   "cell_type": "code",
   "execution_count": null,
   "id": "948f03d1",
   "metadata": {},
   "outputs": [],
   "source": [
    "x=\"123df\"\n",
    "a=int(input(\"Enter your age:\"))\n",
    "if a<18:\n",
    "    print(\"You are too young to create an account\")\n",
    "else:\n",
    "    p=input(\"Enter the password:\")\n",
    "    if p==x:\n",
    "        print(\"Congratulations on creating your account!\")\n",
    "    else:\n",
    "        print(\"Incorrect password\")"
   ]
  },
  {
   "cell_type": "code",
   "execution_count": null,
   "id": "5cbaa652",
   "metadata": {},
   "outputs": [],
   "source": [
    "r=int(input(\"Enter the rank:\"))\n",
    "p=int(input(\"Enter the percentage in 12th:\"))\n",
    "if (r<10000 or p>75):\n",
    "    print(\"Eligible\")\n",
    "else:\n",
    "    print(\"Not eligible\")"
   ]
  },
  {
   "cell_type": "code",
   "execution_count": null,
   "id": "a2747e27",
   "metadata": {},
   "outputs": [],
   "source": [
    "h=int(input(\"Enter the hours:\"))\n",
    "if 1<h<=2:\n",
    "    print(\"Price = 100\")\n",
    "elif h<=4:\n",
    "    print(\"Price =\",100+((h-2)*50))\n",
    "elif h<=6:\n",
    "    print(\"Price =\",100+100+((h-4)*60))\n",
    "else:\n",
    "    print(\"Price =\",100+200)"
   ]
  },
  {
   "cell_type": "code",
   "execution_count": null,
   "id": "0659fe53",
   "metadata": {},
   "outputs": [],
   "source": [
    "x=int(input(\"Num A:\"))\n",
    "y=int(input(\"Num B:\"))\n",
    "z=input(\"Enter the operation (+,-,*,/,^):\")\n",
    "if z==\"+\":\n",
    "    print(x+y)\n",
    "elif z==\"-\":\n",
    "    print(x-y)\n",
    "elif z==\"*\":\n",
    "    print(x*y)\n",
    "elif z==\"/\":\n",
    "    if y==0:\n",
    "        print(\"Division by 0 not possible!\")\n",
    "    else:\n",
    "        print(x/y)\n",
    "elif z==\"^\":\n",
    "    print(x**y)\n",
    "else:\n",
    "    print(\"invalid operator!\")"
   ]
  }
 ],
 "metadata": {
  "kernelspec": {
   "display_name": "Python 3 (ipykernel)",
   "language": "python",
   "name": "python3"
  },
  "language_info": {
   "codemirror_mode": {
    "name": "ipython",
    "version": 3
   },
   "file_extension": ".py",
   "mimetype": "text/x-python",
   "name": "python",
   "nbconvert_exporter": "python",
   "pygments_lexer": "ipython3",
   "version": "3.12.4"
  }
 },
 "nbformat": 4,
 "nbformat_minor": 5
}
